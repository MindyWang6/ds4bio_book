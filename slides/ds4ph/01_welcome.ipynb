{
 "cells": [
  {
   "cell_type": "markdown",
   "id": "c1bf2136-563a-4699-af80-ce47bb9772d6",
   "metadata": {
    "slideshow": {
     "slide_type": "slide"
    },
    "tags": []
   },
   "source": [
    "# Welcome to the class!\n",
    "## Advanced Data Science for Public Health I and II\n",
    "### Instructor: Brian Caffo"
   ]
  },
  {
   "cell_type": "markdown",
   "id": "74084cc5-ff76-41db-a227-7533ab65b72d",
   "metadata": {
    "slideshow": {
     "slide_type": "slide"
    },
    "tags": []
   },
   "source": [
    "## Class organization\n",
    "+ Same organization for 3rd and 4th term classes\n",
    "+ It's much better to take both terms\n",
    "+ Loosely, 3rd term computational tools, 4th term analysis tools\n",
    "\n"
   ]
  },
  {
   "cell_type": "markdown",
   "id": "97989544-7c26-4e8c-aee6-c108e6b426f1",
   "metadata": {
    "slideshow": {
     "slide_type": "subslide"
    },
    "tags": []
   },
   "source": [
    "### Weekly homeworks \n",
    "+ Due Mondays at 5:00 PM unless otherwise specified \n",
    "  + If Monday is a school holiday, Tuesday at 5:00 PM\n",
    "+ Submitted via github classroom (more on that later)\n",
    "+ Usually a set of programming tasks\n",
    "+ Feel free to discuss, work together and post code *however* all submitted work must be your own\n",
    "+ Ask for an extenion instead of submitting something bad\n"
   ]
  },
  {
   "cell_type": "markdown",
   "id": "0faa20f2-1d9c-45cb-9f8d-224578a73be0",
   "metadata": {
    "slideshow": {
     "slide_type": "subslide"
    },
    "tags": []
   },
   "source": [
    "### Quizzes\n",
    "+ May be included in weekly homeworks\n",
    "+ Due at the same time as the projects unless otherwise specified\n",
    "+ Do not discuss or work together on quizzes"
   ]
  },
  {
   "cell_type": "markdown",
   "id": "8ed3f022-555f-4ae8-97e8-6ae7a6ef5b8f",
   "metadata": {
    "slideshow": {
     "slide_type": "subslide"
    },
    "tags": []
   },
   "source": [
    "### Final project\n",
    "+ Due at the end of the term\n",
    "+ One for each term of the two term class\n",
    "+ Requires a short video and presentation along with the deliverable\n",
    "+ Requirements will be given on the Teams site closer to the due date\n",
    "+ A grading rubric will also be given"
   ]
  },
  {
   "cell_type": "markdown",
   "id": "8b7b1892-94a5-4cc7-8eeb-c8324395a60b",
   "metadata": {
    "slideshow": {
     "slide_type": "subslide"
    },
    "tags": []
   },
   "source": [
    "### Grading\n",
    "+ Homeworks equally weighted, weekly quizzes included as part of the associated weekly homework grade\n",
    "+ Course grade = $\\frac{1}{2}$ Homework average + $\\frac{1}{2}$ Final project"
   ]
  },
  {
   "cell_type": "markdown",
   "id": "e8ecc380-8307-4454-90b7-10a81b8163fb",
   "metadata": {
    "slideshow": {
     "slide_type": "slide"
    },
    "tags": []
   },
   "source": [
    "## Lectures and communication"
   ]
  },
  {
   "cell_type": "markdown",
   "id": "f60a3fde-8aa3-4251-bce4-5e66ce474b5a",
   "metadata": {},
   "source": [
    "### Teams site\n",
    "+ Please use the Teams site for communiction \n",
    "+ Use DMs for communication with instructors and TAs\n",
    "+ Consider also having discussions with classmates\n",
    "+ Term specific syllabus information will be in the channel General under Files-> syllabus"
   ]
  },
  {
   "cell_type": "markdown",
   "id": "3f711e2d-c97c-4e7d-8d57-e5592ce48509",
   "metadata": {
    "slideshow": {
     "slide_type": "subslide"
    },
    "tags": []
   },
   "source": [
    "### Lectures\n",
    "+ Lectures will be live during the assigned class time\n",
    "+ Go to the Teams site and lectures will be accessible there\n",
    "+ All lectures will be recorded and posted to the Teams site"
   ]
  },
  {
   "cell_type": "markdown",
   "id": "361bae6a-6a72-4c10-99cb-90d50a5a35bd",
   "metadata": {
    "slideshow": {
     "slide_type": "subslide"
    },
    "tags": []
   },
   "source": [
    "### Office hours\n",
    "+ Instructor hybrid (live/online) office hours once a week\n",
    "+ TA online office hours hours once a week\n",
    "+ Connect via the \"Office hours\" channel\n",
    "+ Times will be listed in the syllabus\n",
    "+ Any changes will be announced on the Teams site"
   ]
  },
  {
   "cell_type": "markdown",
   "id": "c09f820b-c3b9-4408-964a-15bf31caf6c4",
   "metadata": {
    "slideshow": {
     "slide_type": "subslide"
    },
    "tags": []
   },
   "source": [
    "### Files\n",
    "+ I'm trying to put all of the notes and slides in one place (\"book\"?)\n",
    "  + The base github directory [https://github.com/smart-stats/ds4bio_book](https://github.com/smart-stats/ds4bio_book)\n",
    "  + Live version of the notes [https://smart-stats.github.io/ds4bio_book/book/_build/html/intro.html](https://smart-stats.github.io/ds4bio_book/book/_build/html/intro.html)\n",
    "  + The slides can be found here [https://github.com/smart-stats/ds4bio_book/slides](https://github.com/smart-stats/ds4bio_book/slides/)\n",
    "+ The old course site is here\n",
    "  + [https://github.com/bcaffo/ds4ph-bme](https://github.com/bcaffo/ds4ph-bme)\n",
    "+ All other files distributed on the Teams site"
   ]
  },
  {
   "cell_type": "markdown",
   "id": "41b0f80b-95b0-4da6-883e-ad5179057758",
   "metadata": {
    "slideshow": {
     "slide_type": "slide"
    },
    "tags": []
   },
   "source": [
    "## Github classroom\n",
    "+ In the class, we'll cover git and github. To submit your assignments you'll use github classroom\n",
    "+ We'll go over this in detail, but to answer some FAQ\n",
    "  + When you push your changes, it's submitted\n",
    "  + You can repeatedly push your changes and change your submission up to the due date/time\n",
    "  + You initialize the repository by clicking on the link that I provide (which will be at the Teams site)\n",
    "  + If you have a github repository in your account that you initialized yourself, this is not the same as \n",
    "    submitting via github classroom\n",
    "  + Your final project will be submitted via github classroom as well\n",
    "  "
   ]
  },
  {
   "cell_type": "markdown",
   "id": "cbe9851b-bfb8-4656-8436-792283c7b00b",
   "metadata": {
    "slideshow": {
     "slide_type": "slide"
    },
    "tags": []
   },
   "source": [
    "## Software\n",
    "+ Python will be the base language for teh course\n",
    "+ You need a good development environment for python\n",
    "+ You can use your own development environment, but we'll specifically support using scisever\n",
    "  + [https://www.sciserver.org/](https://www.sciserver.org/)\n",
    "+ This is a jupyter and jupyter lab solution run by JHU IDIES"
   ]
  },
  {
   "cell_type": "markdown",
   "id": "2cfd7296-d88d-4ed9-ac3f-26fca3e065e4",
   "metadata": {
    "slideshow": {
     "slide_type": "subslide"
    },
    "tags": []
   },
   "source": [
    "### Your own development environment\n",
    "+ If you want to install python yourself, you might start with [anaconda](https://www.anaconda.com/)\n",
    "+ Many people seem to like [VS Code](https://code.visualstudio.com/), but you could also use sublime, atom, notepad++,  emacs, vim, Spyder, pycharm ...\n",
    "+ We'll specifically be working with notebooks called \"ipython notebooks\", so you want a development environment that has specific facility for ipynb files\n",
    "+ [Google colab](https://colab.research.google.com/) is a great online environment for notebook development, so is [paperspace](https://www.paperspace.com/), [binder](https://mybinder.org/) and many others"
   ]
  },
  {
   "cell_type": "markdown",
   "id": "ca506329-58cb-4912-980d-3632dbbc82b9",
   "metadata": {
    "slideshow": {
     "slide_type": "subslide"
    },
    "tags": []
   },
   "source": [
    "### Some points\n",
    "+ Contrast the variable width font versus the fixed width font (comparing i versus m)\n",
    "  + iiii\n",
    "  + mmmm\n",
    "  + versus below\n",
    "```\n",
    "iiii\n",
    "mmmm\n",
    "```\n",
    "+ Keep your coding standards consistent\n",
    "+ [Here's a style guide](https://www.python.org/dev/peps/pep-0008/)\n",
    "+ If you're using a development environment that doesn't have code completion, syntax highlighting and other niceities, you're probably dramatically reducing your coding efficiency"
   ]
  }
 ],
 "metadata": {
  "kernelspec": {
   "display_name": "Python 3 (ipykernel)",
   "language": "python",
   "name": "python3"
  },
  "language_info": {
   "codemirror_mode": {
    "name": "ipython",
    "version": 3
   },
   "file_extension": ".py",
   "mimetype": "text/x-python",
   "name": "python",
   "nbconvert_exporter": "python",
   "pygments_lexer": "ipython3",
   "version": "3.9.7"
  }
 },
 "nbformat": 4,
 "nbformat_minor": 5
}
