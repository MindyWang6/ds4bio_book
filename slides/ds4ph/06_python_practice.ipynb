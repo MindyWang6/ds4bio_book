{
 "cells": [
  {
   "cell_type": "markdown",
   "metadata": {
    "slideshow": {
     "slide_type": "slide"
    },
    "tags": []
   },
   "source": [
    "# Python in practice\n",
    "\n",
    "+ The kind of programming we've seen so far in python isn't how typical data programmming in python goes. \n",
    "+ Instead, we tend to rely a lot of modules that add methods to our complex data science objects. + Most python objects are class objects that come with a variety of convenient methods associated with them. \n",
    "+ If you're working in a good coding environment, then it should have some method autocompletion for your objects, which helps prevent typos and can speed up work. "
   ]
  },
  {
   "cell_type": "code",
   "execution_count": 1,
   "metadata": {
    "slideshow": {
     "slide_type": "slide"
    },
    "tags": []
   },
   "outputs": [
    {
     "name": "stdout",
     "output_type": "stream",
     "text": [
      "['frogs', 'cats', 'dogs', 'hamsters']\n",
      "['cats', 'dogs', 'frogs', 'hamsters']\n",
      "['hamsters', 'frogs', 'dogs', 'cats']\n",
      "['hamsters', 'frogs', 'dogs']\n",
      "['hamsters', 'frogs', 'dogs', 'horses']\n",
      "1\n"
     ]
    }
   ],
   "source": [
    "pets = ['frogs', 'cats', 'dogs', 'hamsters']\n",
    "print(pets)\n",
    "pets.sort() #note this changes the pets object\n",
    "print(pets)\n",
    "pets.reverse()\n",
    "print(pets)\n",
    "pets.pop() #removes the last item in the list\n",
    "print(pets)\n",
    "pets.append(\"horses\")\n",
    "print(pets)\n",
    "print(pets.count(\"horses\")) #counts the number of times the string horses is in the list"
   ]
  },
  {
   "cell_type": "markdown",
   "metadata": {
    "slideshow": {
     "slide_type": "slide"
    },
    "tags": []
   },
   "source": [
    "# Making our own object with methods\n",
    "\n",
    "+ Let's do an example with a complex number\n",
    "+ Unlike real numbers complex numbers have two parts, the real and \"imaginary\"\n",
    "+ Example, (0 + i)^2 = -1\n",
    "+ Example, 1+2i could be represented as an object (1, 2) plus associated methods"
   ]
  },
  {
   "cell_type": "code",
   "execution_count": 19,
   "metadata": {
    "slideshow": {
     "slide_type": "subslide"
    },
    "tags": []
   },
   "outputs": [
    {
     "name": "stdout",
     "output_type": "stream",
     "text": [
      "10.0\n",
      "5.0\n",
      "(10-5j)\n"
     ]
    }
   ],
   "source": [
    "x = 10 + 5j\n",
    "print(x.real)\n",
    "print(x.imag)\n",
    "print(x.conjugate())"
   ]
  },
  {
   "cell_type": "markdown",
   "metadata": {},
   "source": [
    "Let's create our own version of a complex number, adapted from [here](https://docs.python.org/3/tutorial/classes.html)."
   ]
  },
  {
   "cell_type": "code",
   "execution_count": 46,
   "metadata": {
    "slideshow": {
     "slide_type": "subslide"
    },
    "tags": []
   },
   "outputs": [
    {
     "name": "stdout",
     "output_type": "stream",
     "text": [
      "(10, 5)\n",
      "(10, -5)\n"
     ]
    }
   ],
   "source": [
    "class mycomplex:\n",
    "    def __init__(self, real, imag):\n",
    "        self.r = real\n",
    "        self.i = imag\n",
    "\n",
    "    def conjugate(self): #note this modifies self\n",
    "        self.i =  -self.i\n",
    "\n",
    "    def print(self):\n",
    "        print((self.r, self.i))\n",
    "\n",
    "y = mycomplex(10,5)\n",
    "y.print()\n",
    "y.conjugate()\n",
    "y.print()"
   ]
  },
  {
   "cell_type": "markdown",
   "metadata": {},
   "source": [
    "Let's now create a version that doesn't modify the object when we conjugate. "
   ]
  },
  {
   "cell_type": "code",
   "execution_count": 48,
   "metadata": {
    "slideshow": {
     "slide_type": "subslide"
    },
    "tags": []
   },
   "outputs": [
    {
     "name": "stdout",
     "output_type": "stream",
     "text": [
      "(10, 5)\n",
      "(10, 5)\n",
      "(10, -5)\n"
     ]
    }
   ],
   "source": [
    "class mycomplex:\n",
    "    def __init__(self, real, imag):\n",
    "        self.r = real\n",
    "        self.i = imag\n",
    "\n",
    "    def conjugate(self): # note this doesn't modify self and returns a new object\n",
    "        return(mycomplex(self.r, -self.i))\n",
    "\n",
    "    def print(self):\n",
    "        print((self.r, self.i))\n",
    "\n",
    "y = mycomplex(10,5)\n",
    "y.print()\n",
    "z = y.conjugate()\n",
    "y.print()\n",
    "z.print()"
   ]
  }
 ],
 "metadata": {
  "kernelspec": {
   "display_name": "base",
   "language": "python",
   "name": "python3"
  },
  "language_info": {
   "codemirror_mode": {
    "name": "ipython",
    "version": 3
   },
   "file_extension": ".py",
   "mimetype": "text/x-python",
   "name": "python",
   "nbconvert_exporter": "python",
   "pygments_lexer": "ipython3",
   "version": "3.12.7"
  }
 },
 "nbformat": 4,
 "nbformat_minor": 4
}
