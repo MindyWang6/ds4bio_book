{
 "cells": [
  {
   "cell_type": "markdown",
   "id": "aa2140ee-4005-4ca7-95b3-50d7e0325853",
   "metadata": {
    "slideshow": {
     "slide_type": "slide"
    },
    "tags": []
   },
   "source": [
    "# Functions"
   ]
  },
  {
   "cell_type": "markdown",
   "id": "48e61244-3e1d-4ca7-9c1a-8b925b5d50fc",
   "metadata": {
    "slideshow": {
     "slide_type": "slide"
    },
    "tags": []
   },
   "source": [
    "## Basics "
   ]
  },
  {
   "cell_type": "markdown",
   "id": "a0340810-de5c-4d40-ae28-eed65f49eb9e",
   "metadata": {
    "slideshow": {
     "slide_type": "subslide"
    },
    "tags": []
   },
   "source": [
    "### Defining a function\n",
    "\n",
    "+ Python allows for the creation of functions, which help us abstract our data manipulations and create reusable code\n",
    "+ Creating functions in python is easy, let's go through an example of creating a function that raises a number to an integer power (which isn't necessary since there's already an operator to do this)"
   ]
  },
  {
   "cell_type": "code",
   "execution_count": 1,
   "id": "6128081a-73e3-4b5a-8e5b-107924fde629",
   "metadata": {},
   "outputs": [
    {
     "name": "stdout",
     "output_type": "stream",
     "text": [
      "125\n"
     ]
    }
   ],
   "source": [
    "def pow(x, n = 2):\n",
    "  return x ** n\n",
    "\n",
    "print(pow(5, 3))"
   ]
  },
  {
   "cell_type": "markdown",
   "id": "037fd4e6-1db3-4100-a85d-d24e2f6aa9c3",
   "metadata": {
    "slideshow": {
     "slide_type": "subslide"
    },
    "tags": []
   },
   "source": [
    "### Function arguments \n",
    "\n",
    "+ Our function has a mandatory arugment, `x`, and an optional arugment, `n`\n",
    "+ The optional argument takes the default value 2\n",
    "+ Consider the following about function argument ordering"
   ]
  },
  {
   "cell_type": "code",
   "execution_count": 2,
   "id": "db6fe4c9-e428-4237-a861-d9bc52668ffa",
   "metadata": {},
   "outputs": [
    {
     "name": "stdout",
     "output_type": "stream",
     "text": [
      "9\n",
      "9\n",
      "9\n"
     ]
    }
   ],
   "source": [
    "print(pow(3, 2))\n",
    "print(pow(x = 3, n = 2))\n",
    "print(pow(n = 2, x = 3))\n",
    "#pow(n = 2, 3) this returns an error, the second position is n, but it's a named argument too"
   ]
  },
  {
   "cell_type": "markdown",
   "id": "eff1da68-5dd1-4738-a1d8-e8e4b9a5a89d",
   "metadata": {
    "slideshow": {
     "slide_type": "slide"
    },
    "tags": []
   },
   "source": [
    "## More advanced function usage"
   ]
  },
  {
   "cell_type": "markdown",
   "id": "cb3b951a-601c-45bf-b1a6-d0fec45b785b",
   "metadata": {
    "slideshow": {
     "slide_type": "subslide"
    },
    "tags": []
   },
   "source": [
    "### Variable length arguments\n",
    "\n",
    "+ You can create functions with variable length arguments\n",
    "+ Here's an example where we make an (unnecessary) string concatenation function"
   ]
  },
  {
   "cell_type": "code",
   "execution_count": 3,
   "id": "4443836e-6f58-4aa2-b19b-7526bf5e9886",
   "metadata": {},
   "outputs": [
    {
     "name": "stdout",
     "output_type": "stream",
     "text": [
      "a/b/c\n",
      "a:b:c\n"
     ]
    }
   ],
   "source": [
    "def concat(*args, sep=\"/\"):\n",
    " return sep.join(args)  \n",
    "\n",
    "print(concat(\"a\", \"b\", \"c\"))\n",
    "print(concat(\"a\", \"b\", \"c\", sep = \":\"))"
   ]
  },
  {
   "cell_type": "markdown",
   "id": "2292868b-7684-4dab-a857-d737e2489f3d",
   "metadata": {
    "slideshow": {
     "slide_type": "subslide"
    },
    "tags": []
   },
   "source": [
    "### Lambda\n",
    "\n",
    "+ The lambda function can be used to make quick function declariations\n",
    "+ A good example is when you need a function as an argument to a function\n",
    "+ Here's an example where we make a function that returns a function"
   ]
  },
  {
   "cell_type": "code",
   "execution_count": null,
   "id": "09fb4ebd-9079-48b0-b7f6-0aeb86dee9b5",
   "metadata": {},
   "outputs": [
    {
     "name": "stdout",
     "output_type": "stream",
     "text": [
      "9\n",
      "8\n"
     ]
    }
   ],
   "source": [
    "def makepow(n):\n",
    " return lambda x: x ** n # you can set the ingrediant and the power all at once\n",
    "\n",
    "square = makepow(2) # you can set the power to 2\n",
    "print(square(3)) # you can set the ingrediant to 3\n",
    "cube = makepow(3)\n",
    "print(cube(2))"
   ]
  },
  {
   "cell_type": "code",
   "execution_count": 1,
   "id": "3e089fcb",
   "metadata": {},
   "outputs": [
    {
     "name": "stdout",
     "output_type": "stream",
     "text": [
      "3.0\n"
     ]
    }
   ],
   "source": [
    "mean = lambda nums: sum(nums) / len(nums)\n",
    "nums = [1, 2, 3, 4, 5]\n",
    "print(mean(nums))"
   ]
  },
  {
   "cell_type": "code",
   "execution_count": 10,
   "id": "3765a8e0",
   "metadata": {},
   "outputs": [
    {
     "name": "stdout",
     "output_type": "stream",
     "text": [
      "3.0 -4.5\n",
      "3.0 4.5\n",
      "3.0 -4.5\n"
     ]
    }
   ],
   "source": [
    "class MyComplex:\n",
    "    def __init__(self, realpart, imagpart):\n",
    "        self.r = realpart\n",
    "        self.i = imagpart\n",
    "\n",
    "    def conjugate(self):\n",
    "        return MyComplex(self.r, -self.i)\n",
    "\n",
    "    def print(self):\n",
    "        print(self.r, self.i)\n",
    "\n",
    "x = MyComplex(3.0, -4.5)\n",
    "x.print()\n",
    "x.conjugate().print()\n",
    "x.print()\n"
   ]
  },
  {
   "cell_type": "markdown",
   "id": "798a2441",
   "metadata": {},
   "source": [
    "In Python, a class is a blueprint for creating objects. A class defines a set of attributes and methods that the created objects will have. Classes allow you to encapsulate data and functionality together, making your code more modular and reusable.\n",
    "\n",
    "Here's a simple example of a class in Python:\n",
    "\n",
    "In this example:\n",
    "\n",
    "class Dog: defines a new class named Dog.\n",
    "__init__ is a special method called a constructor, which initializes the object's attributes.\n",
    "self refers to the instance of the class.\n",
    "bark is a method that belongs to the Dog class.\n",
    "my_dog is an instance of the Dog class.\n",
    "Classes are fundamental to object-oriented programming (OOP) in Python, allowing you to create complex data structures and models.\n"
   ]
  },
  {
   "cell_type": "code",
   "execution_count": 6,
   "id": "9b75d665",
   "metadata": {},
   "outputs": [
    {
     "name": "stdout",
     "output_type": "stream",
     "text": [
      "Hello my name is John\n"
     ]
    }
   ],
   "source": [
    "class Person:\n",
    "    def __init__(self, name, age):\n",
    "        self.name = name\n",
    "        self.age = age\n",
    "        \n",
    "    def myfunc(self):\n",
    "        print(\"Hello my name is \" + self.name)\n",
    "        \n",
    "p1 = Person(\"John\", 36)\n",
    "p1.myfunc()\n",
    "\n",
    "        "
   ]
  },
  {
   "cell_type": "code",
   "execution_count": null,
   "id": "d100d65c",
   "metadata": {},
   "outputs": [],
   "source": [
    "# creat a lineral regression model function \n",
    "def linreg(x,y):\n",
    "    n = len(x)\n",
    "    x_mean = mean(x)\n",
    "    y_mean = mean(y)\n",
    "    x_mean_diff = [i - x_mean for i in x]\n",
    "    y_mean_diff = [i - y_mean for i in y]\n",
    "    x_mean_diff_sq = [i ** 2 for i in x_mean_diff]\n",
    "    y_mean_diff_sq = [i ** 2 for i in y_mean_diff]\n",
    "    x_mean_diff_y_mean_diff = [x_mean_diff[i] * y_mean_diff[i] for i in range(n)]\n",
    "    b = sum(x_mean_diff_y_mean_diff) / sum(x_mean_diff_sq)\n",
    "    a = y_mean - b * x_mean\n",
    "    return a, b\n"
   ]
  }
 ],
 "metadata": {
  "kernelspec": {
   "display_name": "base",
   "language": "python",
   "name": "python3"
  },
  "language_info": {
   "codemirror_mode": {
    "name": "ipython",
    "version": 3
   },
   "file_extension": ".py",
   "mimetype": "text/x-python",
   "name": "python",
   "nbconvert_exporter": "python",
   "pygments_lexer": "ipython3",
   "version": "3.12.7"
  }
 },
 "nbformat": 4,
 "nbformat_minor": 5
}
