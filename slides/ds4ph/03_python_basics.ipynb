{
 "cells": [
  {
   "cell_type": "markdown",
   "id": "b07bd8ab-353e-4f2d-8d0f-8ffad775f7f1",
   "metadata": {
    "slideshow": {
     "slide_type": "slide"
    },
    "tags": []
   },
   "source": [
    "# Basic python"
   ]
  },
  {
   "cell_type": "markdown",
   "id": "b97b94d1-cbd4-4283-894a-34e619f7e13b",
   "metadata": {
    "slideshow": {
     "slide_type": "slide"
    },
    "tags": []
   },
   "source": [
    "## Basic types and data structures"
   ]
  },
  {
   "cell_type": "markdown",
   "id": "1d6f9ce7-c6fb-43f4-ab55-85193f2deab5",
   "metadata": {
    "slideshow": {
     "slide_type": "subslide"
    },
    "tags": []
   },
   "source": [
    "### Basic types\n",
    "+ Python has a few basic data types\n",
    "+ The command `type` returns the type\n",
    "+ The command `print` is needed in this case because notebooks tend to print out only the last line"
   ]
  },
  {
   "cell_type": "code",
   "execution_count": null,
   "id": "3bd1765e-f662-4ee6-a0ad-1722ea46abc5",
   "metadata": {
    "tags": []
   },
   "outputs": [
    {
     "name": "stdout",
     "output_type": "stream",
     "text": [
      "<class 'int'>\n",
      "<class 'float'>\n",
      "<class 'complex'>\n",
      "<class 'str'>\n",
      "<class 'bool'>\n"
     ]
    }
   ],
   "source": [
    "print(type(10))\n",
    "print(type(10.0))\n",
    "print(type(10+0j))\n",
    "print(type(\"10\"))\n",
    "print(type(True))\n",
    "\n",
    "# How many types of numbers are there in Python? and what are they?\n",
    "# There are 3 types of numbers in Python:\n",
    "# 1. int\n",
    "# 2. float\n",
    "# 3. complex\n",
    "\n",
    "# What is the difference between int and float?\n",
    "# Int is a whole number (positive or negative) without decimals\n",
    "# Float is a number with decimals\n",
    "\n",
    "# How about 'str' and ''bool'?\n",
    "# Str is a string (text) and bool is a boolean (True or False)"
   ]
  },
  {
   "cell_type": "markdown",
   "id": "ee257b2a-a6a9-454a-b121-7bb453f3d5d0",
   "metadata": {
    "slideshow": {
     "slide_type": "subslide"
    },
    "tags": []
   },
   "source": [
    "### Basic data structures\n",
    "\n",
    "+ Python has some core data structures, we'll cover these more later\n",
    "+ However, here's a teaser"
   ]
  },
  {
   "cell_type": "code",
   "execution_count": null,
   "id": "5d9e9e67-87b8-4b33-b58e-d3c7b9cec007",
   "metadata": {},
   "outputs": [
    {
     "name": "stdout",
     "output_type": "stream",
     "text": [
      "<class 'list'>\n",
      "<class 'tuple'>\n",
      "<class 'set'>\n"
     ]
    }
   ],
   "source": [
    "print(type([1, 2]))\n",
    "print(type((1, 2))) \n",
    "print(type({1, 2}))\n",
    "\n",
    "# What is the difference between list, tuple, and set?\n",
    "# List is mutable, tuple is immutable, and set is unordered and unique"
   ]
  },
  {
   "cell_type": "markdown",
   "id": "90630994-56cc-4f24-8e17-4fe8d407ad97",
   "metadata": {
    "slideshow": {
     "slide_type": "subslide"
    },
    "tags": []
   },
   "source": [
    "### Type conversions"
   ]
  },
  {
   "cell_type": "code",
   "execution_count": null,
   "id": "413a50e4-5264-403d-b6f1-1bd6b3822536",
   "metadata": {},
   "outputs": [
    {
     "name": "stdout",
     "output_type": "stream",
     "text": [
      "<class 'float'>\n",
      "<class 'float'>\n"
     ]
    }
   ],
   "source": [
    "print(type(float(10)))\n",
    "a = 10\n",
    "print(type( a.__float__() ))\n",
    "\n",
    "# What is the difference between float(10) and 10.__float__()?\n",
    "# float(10) is a function that converts 10 to a float\n",
    "# 10.__float__() is a method that converts 10 to a float\n"
   ]
  },
  {
   "cell_type": "markdown",
   "id": "d00021a7-afcf-4354-9ebb-d24967090d9d",
   "metadata": {
    "slideshow": {
     "slide_type": "slide"
    },
    "tags": []
   },
   "source": [
    "## Basic operations, type conversions"
   ]
  },
  {
   "cell_type": "markdown",
   "id": "c2f3419b-3db3-4b09-bd8c-772573400ba9",
   "metadata": {
    "slideshow": {
     "slide_type": "subslide"
    },
    "tags": []
   },
   "source": [
    "### Basic operations\n",
    "\n",
    "+ Python has the standard operators `+`, `-`, `*`, `/`\n",
    "+ Expononent is `**`\n",
    "+ `//` is integer division\n",
    "+ `%` is modulo\n",
    "+ Type conversion happen automatically if they're obvious"
   ]
  },
  {
   "cell_type": "code",
   "execution_count": 9,
   "id": "b2a52f1a-0172-4f83-9c5b-fe44fa9a8241",
   "metadata": {},
   "outputs": [
    {
     "name": "stdout",
     "output_type": "stream",
     "text": [
      "20.0\n",
      "100\n",
      "20\n",
      "5.0\n",
      "5\n",
      "0.09999999999999964\n"
     ]
    }
   ],
   "source": [
    "print(10 + 10.0) ## addition, in this case an int and float\n",
    "print(10 ** 2)   ## exponent\n",
    "print(10 * 2)    ## multiplication\n",
    "print(10 / 2)    ## division\n",
    "print(10 // 2) ## integer division\n",
    "\n",
    "print(10.1 % 2)  ## modulo"
   ]
  },
  {
   "cell_type": "markdown",
   "id": "01643814-b42f-4b96-be5e-2fad4c145d67",
   "metadata": {
    "slideshow": {
     "slide_type": "slide"
    },
    "tags": []
   },
   "source": [
    "## Strings and Booleans"
   ]
  },
  {
   "cell_type": "markdown",
   "id": "4bb5e1e0-3b18-403a-ac29-76a8fd128441",
   "metadata": {
    "slideshow": {
     "slide_type": "subslide"
    },
    "tags": []
   },
   "source": [
    "### String and string operators \n",
    "+ Strings are really easy to work with in python\n",
    "+ Addition `+` becomes concatenation\n",
    "+ Brackets can reference characters (counting from 0)"
   ]
  },
  {
   "cell_type": "code",
   "execution_count": 8,
   "id": "c2bc71fb-29d2-4b81-931c-3a2ddd02558b",
   "metadata": {},
   "outputs": [
    {
     "name": "stdout",
     "output_type": "stream",
     "text": [
      "ds4bio is great\n",
      "s\n",
      "b\n",
      "um\n"
     ]
    }
   ],
   "source": [
    "word = \"ds4bio\"\n",
    "print(word + \" is great\") #concatenation \n",
    "print(word[1])\n",
    "print(word[-3])\n",
    "a = \"yumemg\"\n",
    "print(a[1:3])"
   ]
  },
  {
   "cell_type": "markdown",
   "id": "3bdd1fd2-0237-491c-874a-277aaef9a298",
   "metadata": {
    "slideshow": {
     "slide_type": "subslide"
    },
    "tags": []
   },
   "source": [
    "### Booleans\n",
    "+ The strings `True` and `False` are reserved\n",
    "+ Also, bitwise logicals `|`, `&`, `~`"
   ]
  },
  {
   "cell_type": "code",
   "execution_count": 9,
   "id": "16587738-962c-4c25-a5e3-040ba198806f",
   "metadata": {},
   "outputs": [
    {
     "name": "stdout",
     "output_type": "stream",
     "text": [
      "True\n",
      "False\n",
      "True\n",
      "False\n"
     ]
    }
   ],
   "source": [
    "a = 5 < 4  # sets a to False\n",
    "b = 5 == 5 # sets b to True\n",
    "print(a or b)\n",
    "print(a and b)\n",
    "print(not a)\n",
    "print(not b)"
   ]
  },
  {
   "cell_type": "markdown",
   "id": "c825e03e-01e2-4469-9fb4-57d73382d412",
   "metadata": {
    "slideshow": {
     "slide_type": "slide"
    },
    "tags": []
   },
   "source": [
    "## Data structures"
   ]
  },
  {
   "cell_type": "markdown",
   "id": "faf9137e-178f-4c81-a315-6cc669f61935",
   "metadata": {
    "slideshow": {
     "slide_type": "subslide"
    },
    "tags": []
   },
   "source": [
    "Python has some more advanced data structures that build on its primitive types. \n",
    "\n",
    "* Lists:  ordered collections of objects\n",
    "* Sets: like lists but only have unique elements\n",
    "* Tuples: like lists, but not mutable, i.e. need to create a new one to modify\n",
    "* Dictionaries: named elements that you can reference by their name rather than position"
   ]
  },
  {
   "cell_type": "markdown",
   "id": "d3b66856-0a90-45df-8042-c812fc5739d2",
   "metadata": {
    "slideshow": {
     "slide_type": "subslide"
    },
    "tags": []
   },
   "source": [
    "### Lists"
   ]
  },
  {
   "cell_type": "code",
   "execution_count": 21,
   "id": "b9ed57e2-235c-4108-a75a-b1f955eee6a6",
   "metadata": {},
   "outputs": [
    {
     "name": "stdout",
     "output_type": "stream",
     "text": [
      "1\n",
      "[8, 10]\n",
      "[8, 10]\n",
      "[1, 4]\n",
      "[[1, 4, 8, 10], [1, 4, 8, 10]]\n",
      "8\n",
      "[[[1, 4, 8, 10], [1, 4, 8, 10]], 'string1']\n",
      "[1, 4, 8, 10, 1, 4, 8, 10]\n"
     ]
    }
   ],
   "source": [
    "dat = [1, 4, 8, 10] # define a list\n",
    "print(dat[0])       # reference an element\n",
    "print(dat[2 : 4])   # reference elements\n",
    "print(dat[2 : ]) \n",
    "print(dat[:2])\n",
    "dat2 = [dat, dat]        # creating a list of lists\n",
    "print(dat2)\n",
    "print(dat2[1][2])        # referencing an item in a nested list\n",
    "dat3 = [dat2, \"string1\"] # mixed types\n",
    "print(dat3)\n",
    "dat4 = dat + dat         # list concatenation\n",
    "print(dat4)"
   ]
  },
  {
   "cell_type": "markdown",
   "id": "d7450846-86a6-470b-9e56-017ac5309611",
   "metadata": {
    "slideshow": {
     "slide_type": "subslide"
    },
    "tags": []
   },
   "source": [
    "### Sets\n",
    "\n",
    "+ Sets can be created with curly braces\n",
    "+ Sets only have unique values\n",
    "+ Sets can have mixed data types"
   ]
  },
  {
   "cell_type": "code",
   "execution_count": null,
   "id": "19cd1711-35fa-4ef1-a5da-bcba429502e6",
   "metadata": {},
   "outputs": [
    {
     "name": "stdout",
     "output_type": "stream",
     "text": [
      "{'b', 'a', 'c'}\n",
      "{False, 1, 'a'}\n",
      "{1, 'a'}\n",
      "{'b', 'a', 'c'}\n"
     ]
    }
   ],
   "source": [
    "set1 = {\"a\", \"b\", \"c\"}\n",
    "set2 = {\"a\", 1, False}\n",
    "set2_2 = {\"a\", 1, True}\n",
    "# the difference between set2 and set2_2 is that True is a boolean and 1 is an integer\n",
    "set3 = {\"a\", \"b\", \"c\", \"c\"}\n",
    "print(set1)\n",
    "print(set2)\n",
    "# why set2 was printed in a different order than it was defined?\n",
    "# sets are unordered\n",
    "print(set2_2)\n",
    "# Why True was not printed in set2?\n",
    "# True is a boolean and 1 is an integer\n",
    "\n",
    "# what is the difference between set2 and set2_2?\n",
    "# True is a boolean and 1 is an integer\n",
    "print(set3)"
   ]
  },
  {
   "cell_type": "markdown",
   "id": "93d0bc6b-1f2e-436e-bbf4-f920e39dc691",
   "metadata": {
    "slideshow": {
     "slide_type": "subslide"
    },
    "tags": []
   },
   "source": [
    "### Tuples\n",
    "+ Tuples are like lists, but immutable\n",
    "+ Here's an example"
   ]
  },
  {
   "cell_type": "code",
   "execution_count": 11,
   "id": "c6ab0ba6-f4e4-4090-8ac1-7f5a6bc0ae5c",
   "metadata": {},
   "outputs": [
    {
     "name": "stdout",
     "output_type": "stream",
     "text": [
      "['aa', 'b', 'c']\n"
     ]
    }
   ],
   "source": [
    "list1 = [\"a\", \"b\", \"c\"]\n",
    "tuple1 = (\"a\", \"b\", \"c\")\n",
    "list1[0] = \"aa\" #Works just fine\n",
    "print(list1)\n",
    "#tuple1[0] = \"aa\" #doesn't work"
   ]
  },
  {
   "cell_type": "markdown",
   "id": "71178b0e-c6b2-4d1a-b7ca-e79f5a1592a7",
   "metadata": {
    "slideshow": {
     "slide_type": "subslide"
    },
    "tags": []
   },
   "source": [
    "+ You can have a list of sets, but not a set of lists\n",
    "+ You can have a list of tuples and a tuple of lists"
   ]
  },
  {
   "cell_type": "code",
   "execution_count": 12,
   "id": "fbff51d4-2a92-4055-9798-65ce3f8352b6",
   "metadata": {
    "tags": []
   },
   "outputs": [
    {
     "ename": "NameError",
     "evalue": "name 'set1' is not defined",
     "output_type": "error",
     "traceback": [
      "\u001b[0;31m---------------------------------------------------------------------------\u001b[0m",
      "\u001b[0;31mNameError\u001b[0m                                 Traceback (most recent call last)",
      "Cell \u001b[0;32mIn[12], line 1\u001b[0m\n\u001b[0;32m----> 1\u001b[0m [set1, set2] \u001b[38;5;66;03m# this works\u001b[39;00m\n\u001b[1;32m      2\u001b[0m \u001b[38;5;66;03m# {dat, dat2} # this doesn't work\u001b[39;00m\n\u001b[1;32m      3\u001b[0m \u001b[38;5;28mprint\u001b[39m([tuple1, tuple1]) \u001b[38;5;66;03m# this works\u001b[39;00m\n",
      "\u001b[0;31mNameError\u001b[0m: name 'set1' is not defined"
     ]
    }
   ],
   "source": [
    "[set1, set2] # this works\n",
    "# {dat, dat2} # this doesn't work\n",
    "print([tuple1, tuple1]) # this works\n",
    "print((list1, list1)) # this works"
   ]
  },
  {
   "cell_type": "markdown",
   "id": "1a93a8ea-049a-40f2-9382-5bed64c8c92c",
   "metadata": {
    "slideshow": {
     "slide_type": "subslide"
    },
    "tags": []
   },
   "source": [
    "### Dictionaries\n",
    " \n",
    "+ Dictionaries are like lists, but with label references\n",
    "+ Here let's create a dictionary with 2 elements, one labeled 'a' and one labeled 'b'. \n",
    "+ We reference a dictionary label element with `dictionary['label']`"
   ]
  },
  {
   "cell_type": "code",
   "execution_count": 11,
   "id": "9275d8aa-35f5-40a3-beb9-2aeebf9b0327",
   "metadata": {},
   "outputs": [
    {
     "name": "stdout",
     "output_type": "stream",
     "text": [
      "{'a': 1, 'b': 2}\n",
      "1\n"
     ]
    }
   ],
   "source": [
    "dict = {\"a\" : 1, \"b\" : 2} # Create a dictionary of two elements named a and b taking values 1 and 2 respectively\n",
    "print(dict)\n",
    "print(dict['a']) "
   ]
  },
  {
   "cell_type": "code",
   "execution_count": 2,
   "id": "f7a05977",
   "metadata": {},
   "outputs": [
    {
     "name": "stdout",
     "output_type": "stream",
     "text": [
      "Fido\n"
     ]
    }
   ],
   "source": [
    "pets = {\"dog\" : {\"name\" : \"Fido\", \"age\" : 10}, \n",
    "        \"cat\" : {\"name\" : \"Whiskers\", \"age\" : 5},\n",
    "        \"fish\" : {\"name\" : \"Bubbles\", \"age\" : 1}} \n",
    "\n",
    "print(pets[\"dog\"][\"name\"]) # prints the name of the dog"
   ]
  },
  {
   "cell_type": "markdown",
   "id": "ea1cc94f-5cad-4a85-bde0-07bc17332e02",
   "metadata": {
    "slideshow": {
     "slide_type": "subslide"
    },
    "tags": []
   },
   "source": [
    "### Discussion, mutable in immutable entities\n",
    "\n",
    "When working with objects in python, mutable and immutable elements act differently. Lists are mutable. So, below, the element `y` gets appended along with `x`."
   ]
  },
  {
   "cell_type": "code",
   "execution_count": null,
   "id": "44bb3736-0528-4248-b4be-46527082ce11",
   "metadata": {},
   "outputs": [
    {
     "name": "stdout",
     "output_type": "stream",
     "text": [
      "[10, 20]\n",
      "[21, 20]\n"
     ]
    }
   ],
   "source": [
    "x = [10]\n",
    "y = x\n",
    "x.append(20)\n",
    "## Notice y has the appended element\n",
    "print(y)\n",
    "## let's try again, as of now x = [10, 20] \n",
    "x[0] = x[0] + 11\n",
    "## Now x = [21, 20], but did y change?\n",
    "# y is a reference to x, so it will change when x changes\n",
    "print(y)"
   ]
  },
  {
   "cell_type": "code",
   "execution_count": 21,
   "id": "22734004",
   "metadata": {},
   "outputs": [
    {
     "name": "stdout",
     "output_type": "stream",
     "text": [
      "[10, 20]\n",
      "[21, 20]\n",
      "[21, 20]\n"
     ]
    }
   ],
   "source": [
    "x = [10]\n",
    "y = x\n",
    "x.append(20)\n",
    "print(y)\n",
    "\n",
    "x[0] = x[0] + 11\n",
    "print(x)\n",
    "\n",
    "print(y)\n"
   ]
  },
  {
   "cell_type": "markdown",
   "id": "a56485c8-fb6c-4b32-96a4-b64190e52e92",
   "metadata": {
    "slideshow": {
     "slide_type": "subslide"
    },
    "tags": []
   },
   "source": [
    "### Immutable objects\n",
    "\n",
    "+ Things like numbers and strings are immutable. Notice that changing `y` does not change `x`."
   ]
  },
  {
   "cell_type": "code",
   "execution_count": 22,
   "id": "e21261d0-bc89-4e2c-8d8f-efbae49eee86",
   "metadata": {},
   "outputs": [
    {
     "name": "stdout",
     "output_type": "stream",
     "text": [
      "(20, 10)\n"
     ]
    }
   ],
   "source": [
    "x = 10\n",
    "y = x\n",
    "x = x + 10\n",
    "print((x, y))"
   ]
  }
 ],
 "metadata": {
  "kernelspec": {
   "display_name": "base",
   "language": "python",
   "name": "python3"
  },
  "language_info": {
   "codemirror_mode": {
    "name": "ipython",
    "version": 3
   },
   "file_extension": ".py",
   "mimetype": "text/x-python",
   "name": "python",
   "nbconvert_exporter": "python",
   "pygments_lexer": "ipython3",
   "version": "3.12.7"
  }
 },
 "nbformat": 4,
 "nbformat_minor": 5
}
